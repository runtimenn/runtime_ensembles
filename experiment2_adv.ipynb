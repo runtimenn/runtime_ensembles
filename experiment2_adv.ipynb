{
 "cells": [
  {
   "cell_type": "markdown",
   "metadata": {},
   "source": [
    "# Experiment 2: Adversarial Detection"
   ]
  },
  {
   "cell_type": "markdown",
   "metadata": {},
   "source": [
    "In this experiment, we evaluate the ensembles approach on the task of adversarial detection. We compare it with the Mahanalobis detector."
   ]
  },
  {
   "cell_type": "markdown",
   "metadata": {},
   "source": [
    "### Imports"
   ]
  },
  {
   "cell_type": "code",
   "execution_count": 1,
   "metadata": {},
   "outputs": [],
   "source": [
    "import numpy as np\n",
    "\n",
    "# sklearn\n",
    "from sklearn.pipeline import make_pipeline\n",
    "from sklearn.preprocessing import StandardScaler\n",
    "from sklearn.neural_network import MLPClassifier\n",
    "\n",
    "# torch\n",
    "import torch\n",
    "from torchvision import datasets, transforms\n",
    "\n",
    "# own modules\n",
    "import densenet\n",
    "import resnet\n",
    "import utils.dnn_utils as dnn_utils\n",
    "import utils.experiment_utils as exp_utils\n",
    "import utils.ensemble_utils as ens_utils\n",
    "import utils.metrics as metrics\n",
    "import utils.plots as myplots"
   ]
  },
  {
   "cell_type": "markdown",
   "metadata": {},
   "source": [
    "## Setting"
   ]
  },
  {
   "cell_type": "markdown",
   "metadata": {},
   "source": [
    "We run the experiments below using the same setting of the Mahanalobis paper. We use their pretrained Neural Nets, one Densenet and one Resnet, and use the same In-Distribution (IND) datasets and preprocessings, and adversarial attacks (with the same parameters). We test the setting where approaches don't have access to data of the attack applied for hyperparameter tuning. Finally, below we evaluate only our approach; the results Mahanalobis can be found in their paper, and reproduced running the official code."
   ]
  },
  {
   "cell_type": "markdown",
   "metadata": {},
   "source": [
    "A quick summary of our approach is shown in the image below. Basically, we extract the features of the penultimate layer, and apply a small ensemble on top. Then, we use the ensemble members to estimate the uncertainty of some new input, using the predictions entropy."
   ]
  },
  {
   "cell_type": "markdown",
   "metadata": {},
   "source": [
    "![title](figs/approach.png)"
   ]
  },
  {
   "cell_type": "markdown",
   "metadata": {},
   "source": [
    "## Experiment 1: CIFAR 10 on Densenet (FGSM)"
   ]
  },
  {
   "cell_type": "markdown",
   "metadata": {},
   "source": [
    "### Load model and parameters"
   ]
  },
  {
   "cell_type": "markdown",
   "metadata": {},
   "source": [
    "First, we load the model, as well as some parameters for preprocessing the data, adversarial attack type and params, etc."
   ]
  },
  {
   "cell_type": "code",
   "execution_count": 2,
   "metadata": {},
   "outputs": [
    {
     "name": "stderr",
     "output_type": "stream",
     "text": [
      "C:\\Users\\admin\\Anaconda3\\lib\\site-packages\\torch\\serialization.py:657: SourceChangeWarning: source code of class 'densenet.DenseNet3' has changed. you can retrieve the original source code by accessing the object's source attribute or set `torch.nn.Module.dump_patches = True` and use the patch tool to revert the changes.\n",
      "  warnings.warn(msg, SourceChangeWarning)\n",
      "C:\\Users\\admin\\Anaconda3\\lib\\site-packages\\torch\\serialization.py:657: SourceChangeWarning: source code of class 'torch.nn.modules.conv.Conv2d' has changed. you can retrieve the original source code by accessing the object's source attribute or set `torch.nn.Module.dump_patches = True` and use the patch tool to revert the changes.\n",
      "  warnings.warn(msg, SourceChangeWarning)\n",
      "C:\\Users\\admin\\Anaconda3\\lib\\site-packages\\torch\\serialization.py:657: SourceChangeWarning: source code of class 'densenet.DenseBlock' has changed. you can retrieve the original source code by accessing the object's source attribute or set `torch.nn.Module.dump_patches = True` and use the patch tool to revert the changes.\n",
      "  warnings.warn(msg, SourceChangeWarning)\n",
      "C:\\Users\\admin\\Anaconda3\\lib\\site-packages\\torch\\serialization.py:657: SourceChangeWarning: source code of class 'torch.nn.modules.container.Sequential' has changed. you can retrieve the original source code by accessing the object's source attribute or set `torch.nn.Module.dump_patches = True` and use the patch tool to revert the changes.\n",
      "  warnings.warn(msg, SourceChangeWarning)\n",
      "C:\\Users\\admin\\Anaconda3\\lib\\site-packages\\torch\\serialization.py:657: SourceChangeWarning: source code of class 'torch.nn.modules.batchnorm.BatchNorm2d' has changed. you can retrieve the original source code by accessing the object's source attribute or set `torch.nn.Module.dump_patches = True` and use the patch tool to revert the changes.\n",
      "  warnings.warn(msg, SourceChangeWarning)\n",
      "C:\\Users\\admin\\Anaconda3\\lib\\site-packages\\torch\\serialization.py:657: SourceChangeWarning: source code of class 'torch.nn.modules.activation.ReLU' has changed. you can retrieve the original source code by accessing the object's source attribute or set `torch.nn.Module.dump_patches = True` and use the patch tool to revert the changes.\n",
      "  warnings.warn(msg, SourceChangeWarning)\n",
      "C:\\Users\\admin\\Anaconda3\\lib\\site-packages\\torch\\serialization.py:657: SourceChangeWarning: source code of class 'torch.nn.modules.linear.Linear' has changed. you can retrieve the original source code by accessing the object's source attribute or set `torch.nn.Module.dump_patches = True` and use the patch tool to revert the changes.\n",
      "  warnings.warn(msg, SourceChangeWarning)\n"
     ]
    }
   ],
   "source": [
    "# load the model\n",
    "model_type = 'densenet'\n",
    "pre_trained_net = 'models/densenet_cifar10.pth'\n",
    "model = torch.load(pre_trained_net)\n",
    "# fix model (due to previous torch version)\n",
    "dnn_utils.fix_model(model)\n",
    "# put model in eval mode\n",
    "model.eval()\n",
    "\n",
    "# some extra params\n",
    "batch_size = 20\n",
    "n_classes = 10\n",
    "layer_sizes_mean = [24, 108, 150, 342, n_classes]\n",
    "# normalization transform for that model\n",
    "min_pixel = -1.98888885975\n",
    "max_pixel = 2.12560367584\n",
    "norm_trans_std = (63.0/255, 62.1/255.0, 66.7/255.0) \n",
    "transform = transforms.Compose([transforms.ToTensor(), \n",
    "                                transforms.Normalize((125.3/255, 123.0/255, 113.9/255), (63.0/255, 62.1/255.0, 66.7/255.0)),])\n",
    "\n",
    "# adv attack settings\n",
    "adv_type = 'FGSM'\n",
    "\n",
    "if adv_type == 'FGSM':\n",
    "    adv_noise = 0.05\n",
    "elif adv_type == 'BIM':\n",
    "    adv_noise = 0.01\n",
    "else:\n",
    "    adv_noise = 0.01"
   ]
  },
  {
   "cell_type": "markdown",
   "metadata": {},
   "source": [
    "### Load datasets"
   ]
  },
  {
   "cell_type": "markdown",
   "metadata": {},
   "source": [
    "Then, we load the IND and OOD datasets"
   ]
  },
  {
   "cell_type": "code",
   "execution_count": 3,
   "metadata": {},
   "outputs": [
    {
     "name": "stdout",
     "output_type": "stream",
     "text": [
      "Files already downloaded and verified\n",
      "Files already downloaded and verified\n"
     ]
    }
   ],
   "source": [
    "# load data\n",
    "# CIFAR10\n",
    "trainset = datasets.CIFAR10(root='data', train=True,\n",
    "                                        download=True, transform=transform)\n",
    "ind_train_loader = torch.utils.data.DataLoader(trainset, batch_size=batch_size,\n",
    "                                          shuffle=True, num_workers=0)\n",
    "\n",
    "testset = datasets.CIFAR10(root='data', train=False,\n",
    "                                       download=True, transform=transform)\n",
    "ind_test_loader = torch.utils.data.DataLoader(testset, batch_size=batch_size,\n",
    "                                         shuffle=True, num_workers=0)\n",
    "\n",
    "if model_type == 'densenet':\n",
    "    if adv_type == 'FGSM':\n",
    "        random_noise_size = 0.21 / 4\n",
    "    elif adv_type == 'BIM':\n",
    "        random_noise_size = 0.21 / 4\n",
    "    elif adv_type == 'DeepFool':\n",
    "        random_noise_size = 0.13 * 2 / 10\n",
    "        adv_noise = 0.6\n",
    "    elif adv_type == 'CWL2':\n",
    "        random_noise_size = 0.03 / 2\n",
    "elif model_type == 'resnet':\n",
    "    if adv_type == 'FGSM':\n",
    "        random_noise_size = 0.25 / 4\n",
    "    elif adv_type == 'BIM':\n",
    "        random_noise_size = 0.13 / 2\n",
    "    elif adv_type == 'DeepFool':\n",
    "        random_noise_size = 0.25 / 4\n",
    "        adv_noise = 0.18\n",
    "    elif adv_type == 'CWL2':\n",
    "        random_noise_size = 0.05 / 2"
   ]
  },
  {
   "cell_type": "markdown",
   "metadata": {},
   "source": [
    "### Extract intermediate activations - features"
   ]
  },
  {
   "cell_type": "markdown",
   "metadata": {},
   "source": [
    "Next, we collect the intermediate layer activations (features) of all datasets. We extract these in the same way as in the Mahanalobis paper (from the same blocks, using channnel-wise averaging, etc. - see paper for the details). Intermediate features are stored in 2D arrays, and also the predictions results (pred vs label) are also extracted. We also have functions tp extract the needed layer features form these arrays later. Here, we obtain intermediate features for the clean as well as for the perturbed data. In some cases, we extract features only for a random sample of the perturbed data, since some adversarial attacks are slow (typically around 1000 samples)."
   ]
  },
  {
   "cell_type": "code",
   "execution_count": 4,
   "metadata": {},
   "outputs": [
    {
     "name": "stderr",
     "output_type": "stream",
     "text": [
      "100%|██████████████████████████████████████████████████████████████████████████████| 2500/2500 [09:25<00:00,  4.42it/s]\n",
      " 10%|████████                                                                         | 50/500 [00:11<01:39,  4.50it/s]\n",
      "  0%|                                                                                          | 0/500 [00:00<?, ?it/s]..\\torch\\csrc\\utils\\python_arg_parser.cpp:756: UserWarning: This overload of add is deprecated:\n",
      "\tadd(Tensor input, Number alpha, Tensor other, *, Tensor out)\n",
      "Consider using one of the following signatures instead:\n",
      "\tadd(Tensor input, Tensor other, *, Number alpha, Tensor out)\n",
      "\n",
      "  0%|▏                                                                                 | 1/500 [00:01<08:59,  1.08s/it]\n",
      "  0%|▎                                                                                 | 2/500 [00:02<08:54,  1.07s/it]\n",
      "  1%|▍                                                                                 | 3/500 [00:03<09:02,  1.09s/it]\n",
      "  1%|▋                                                                                 | 4/500 [00:04<08:52,  1.07s/it]\n",
      "  1%|▊                                                                                 | 5/500 [00:05<08:46,  1.06s/it]\n",
      "  1%|▉                                                                                 | 6/500 [00:06<08:43,  1.06s/it]\n",
      "  1%|█▏                                                                                | 7/500 [00:07<08:39,  1.05s/it]\n",
      "  2%|█▎                                                                                | 8/500 [00:08<08:43,  1.06s/it]\n",
      "  2%|█▍                                                                                | 9/500 [00:09<08:47,  1.07s/it]\n",
      "  2%|█▌                                                                               | 10/500 [00:10<08:45,  1.07s/it]\n",
      "  2%|█▊                                                                               | 11/500 [00:11<08:36,  1.06s/it]\n",
      "  2%|█▉                                                                               | 12/500 [00:12<08:33,  1.05s/it]\n",
      "  3%|██                                                                               | 13/500 [00:13<08:29,  1.05s/it]\n",
      "  3%|██▎                                                                              | 14/500 [00:14<08:34,  1.06s/it]\n",
      "  3%|██▍                                                                              | 15/500 [00:15<08:32,  1.06s/it]\n",
      "  3%|██▌                                                                              | 16/500 [00:16<08:31,  1.06s/it]\n",
      "  3%|██▊                                                                              | 17/500 [00:18<08:29,  1.05s/it]\n",
      "  4%|██▉                                                                              | 18/500 [00:19<08:32,  1.06s/it]\n",
      "  4%|███                                                                              | 19/500 [00:20<08:32,  1.07s/it]\n",
      "  4%|███▏                                                                             | 20/500 [00:21<08:24,  1.05s/it]\n",
      "  4%|███▍                                                                             | 21/500 [00:22<08:24,  1.05s/it]\n",
      "  4%|███▌                                                                             | 22/500 [00:23<08:22,  1.05s/it]\n",
      "  5%|███▋                                                                             | 23/500 [00:24<08:21,  1.05s/it]\n",
      "  5%|███▉                                                                             | 24/500 [00:25<08:27,  1.07s/it]\n",
      "  5%|████                                                                             | 25/500 [00:26<08:20,  1.05s/it]\n",
      "  5%|████▏                                                                            | 26/500 [00:27<08:23,  1.06s/it]\n",
      "  5%|████▎                                                                            | 27/500 [00:28<08:21,  1.06s/it]\n",
      "  6%|████▌                                                                            | 28/500 [00:29<08:22,  1.06s/it]\n",
      "  6%|████▋                                                                            | 29/500 [00:30<08:21,  1.06s/it]\n",
      "  6%|████▊                                                                            | 30/500 [00:31<08:13,  1.05s/it]\n",
      "  6%|█████                                                                            | 31/500 [00:32<08:08,  1.04s/it]\n",
      "  6%|█████▏                                                                           | 32/500 [00:33<08:06,  1.04s/it]\n",
      "  7%|█████▎                                                                           | 33/500 [00:34<08:10,  1.05s/it]\n",
      "  7%|█████▌                                                                           | 34/500 [00:35<08:08,  1.05s/it]\n",
      "  7%|█████▋                                                                           | 35/500 [00:36<08:06,  1.05s/it]\n",
      "  7%|█████▊                                                                           | 36/500 [00:38<08:10,  1.06s/it]\n",
      "  7%|█████▉                                                                           | 37/500 [00:39<08:06,  1.05s/it]\n",
      "  8%|██████▏                                                                          | 38/500 [00:40<08:09,  1.06s/it]\n",
      "  8%|██████▎                                                                          | 39/500 [00:41<08:10,  1.06s/it]\n",
      "  8%|██████▍                                                                          | 40/500 [00:42<08:06,  1.06s/it]\n",
      "  8%|██████▋                                                                          | 41/500 [00:43<08:04,  1.05s/it]\n",
      "  8%|██████▊                                                                          | 42/500 [00:44<08:00,  1.05s/it]\n",
      "  9%|██████▉                                                                          | 43/500 [00:45<07:58,  1.05s/it]\n",
      "  9%|███████▏                                                                         | 44/500 [00:46<07:57,  1.05s/it]\n",
      "  9%|███████▎                                                                         | 45/500 [00:47<08:03,  1.06s/it]\n",
      "  9%|███████▍                                                                         | 46/500 [00:48<08:04,  1.07s/it]\n",
      "  9%|███████▌                                                                         | 47/500 [00:49<08:10,  1.08s/it]\n",
      " 10%|███████▊                                                                         | 48/500 [00:50<08:02,  1.07s/it]\n",
      " 10%|███████▉                                                                         | 49/500 [00:51<08:09,  1.08s/it]\n",
      " 10%|████████                                                                         | 50/500 [00:53<08:10,  1.09s/it]\n",
      " 10%|████████▎                                                                        | 51/500 [00:54<08:00,  1.07s/it]\n",
      " 10%|████████▍                                                                        | 52/500 [00:55<08:03,  1.08s/it]\n",
      " 11%|████████▌                                                                        | 53/500 [00:56<08:00,  1.08s/it]\n",
      " 11%|████████▋                                                                        | 54/500 [00:57<07:52,  1.06s/it]\n",
      " 11%|████████▉                                                                        | 55/500 [00:58<07:57,  1.07s/it]\n",
      " 11%|█████████                                                                        | 56/500 [00:59<07:55,  1.07s/it]\n",
      " 11%|█████████▏                                                                       | 57/500 [01:00<07:54,  1.07s/it]\n",
      " 12%|█████████▍                                                                       | 58/500 [01:01<07:55,  1.08s/it]\n",
      " 12%|█████████▌                                                                       | 59/500 [01:02<07:55,  1.08s/it]\n",
      " 12%|█████████▋                                                                       | 60/500 [01:03<07:50,  1.07s/it]\n",
      " 12%|█████████▉                                                                       | 61/500 [01:04<07:47,  1.06s/it]\n",
      " 12%|██████████                                                                       | 62/500 [01:05<07:47,  1.07s/it]\n"
     ]
    },
    {
     "name": "stderr",
     "output_type": "stream",
     "text": [
      " 13%|██████████▏                                                                      | 63/500 [01:06<07:44,  1.06s/it]\n",
      " 13%|██████████▎                                                                      | 64/500 [01:07<07:41,  1.06s/it]\n",
      " 13%|██████████▌                                                                      | 65/500 [01:08<07:40,  1.06s/it]\n",
      " 13%|██████████▋                                                                      | 66/500 [01:10<07:38,  1.06s/it]\n",
      " 13%|██████████▊                                                                      | 67/500 [01:11<07:37,  1.06s/it]"
     ]
    }
   ],
   "source": [
    "# collect intermediate layer activations (features) on data\n",
    "\n",
    "# IND training features\n",
    "A, Ares = exp_utils.collectActivMah(ind_train_loader, model, layer_sizes_mean)\n",
    "\n",
    "# IND test features\n",
    "B, Bres = exp_utils.collectActivMah(ind_test_loader, model, layer_sizes_mean, 1000)\n",
    "\n",
    "# collect adversarially perturbed activations\n",
    "\n",
    "# IND adv features\n",
    "C, Cres = exp_utils.collectActivAdv(ind_test_loader, model, n_classes, layer_sizes_mean, adv_type, \n",
    "                                    random_noise_size, min_pixel, max_pixel, norm_trans_std, \n",
    "                                    adv_noise, 1000)"
   ]
  },
  {
   "cell_type": "markdown",
   "metadata": {},
   "source": [
    "### Train ensembles on selected intermediate features"
   ]
  },
  {
   "cell_type": "markdown",
   "metadata": {},
   "source": [
    "After intermediate features are obtained, we can then train an esemble on them, as described above. We train the esnembles on the training data, and then evaluate uncertainties on the test datasets (IND and ADV)."
   ]
  },
  {
   "cell_type": "code",
   "execution_count": 5,
   "metadata": {},
   "outputs": [
    {
     "name": "stderr",
     "output_type": "stream",
     "text": [
      "\n",
      "\n",
      "  0%|                                                                                           | 0/10 [00:00<?, ?it/s]C:\\Users\\admin\\Anaconda3\\lib\\site-packages\\sklearn\\neural_network\\multilayer_perceptron.py:566: ConvergenceWarning: Stochastic Optimizer: Maximum iterations (10) reached and the optimization hasn't converged yet.\n",
      "  % self.max_iter, ConvergenceWarning)\n",
      "\n",
      "\n",
      " 10%|████████▎                                                                          | 1/10 [00:02<00:25,  2.82s/it]C:\\Users\\admin\\Anaconda3\\lib\\site-packages\\sklearn\\neural_network\\multilayer_perceptron.py:566: ConvergenceWarning: Stochastic Optimizer: Maximum iterations (10) reached and the optimization hasn't converged yet.\n",
      "  % self.max_iter, ConvergenceWarning)\n",
      "\n",
      "\n",
      " 20%|████████████████▌                                                                  | 2/10 [00:05<00:22,  2.75s/it]C:\\Users\\admin\\Anaconda3\\lib\\site-packages\\sklearn\\neural_network\\multilayer_perceptron.py:566: ConvergenceWarning: Stochastic Optimizer: Maximum iterations (10) reached and the optimization hasn't converged yet.\n",
      "  % self.max_iter, ConvergenceWarning)\n",
      "\n",
      "\n",
      " 30%|████████████████████████▉                                                          | 3/10 [00:08<00:19,  2.76s/it]C:\\Users\\admin\\Anaconda3\\lib\\site-packages\\sklearn\\neural_network\\multilayer_perceptron.py:566: ConvergenceWarning: Stochastic Optimizer: Maximum iterations (10) reached and the optimization hasn't converged yet.\n",
      "  % self.max_iter, ConvergenceWarning)\n",
      "\n",
      "\n",
      " 40%|█████████████████████████████████▏                                                 | 4/10 [00:10<00:16,  2.73s/it]C:\\Users\\admin\\Anaconda3\\lib\\site-packages\\sklearn\\neural_network\\multilayer_perceptron.py:566: ConvergenceWarning: Stochastic Optimizer: Maximum iterations (10) reached and the optimization hasn't converged yet.\n",
      "  % self.max_iter, ConvergenceWarning)\n",
      "\n",
      "\n",
      " 50%|█████████████████████████████████████████▌                                         | 5/10 [00:13<00:13,  2.68s/it]C:\\Users\\admin\\Anaconda3\\lib\\site-packages\\sklearn\\neural_network\\multilayer_perceptron.py:566: ConvergenceWarning: Stochastic Optimizer: Maximum iterations (10) reached and the optimization hasn't converged yet.\n",
      "  % self.max_iter, ConvergenceWarning)\n",
      "\n",
      "\n",
      " 60%|█████████████████████████████████████████████████▊                                 | 6/10 [00:15<00:10,  2.64s/it]C:\\Users\\admin\\Anaconda3\\lib\\site-packages\\sklearn\\neural_network\\multilayer_perceptron.py:566: ConvergenceWarning: Stochastic Optimizer: Maximum iterations (10) reached and the optimization hasn't converged yet.\n",
      "  % self.max_iter, ConvergenceWarning)\n",
      "\n",
      "\n",
      " 70%|██████████████████████████████████████████████████████████                         | 7/10 [00:18<00:07,  2.62s/it]C:\\Users\\admin\\Anaconda3\\lib\\site-packages\\sklearn\\neural_network\\multilayer_perceptron.py:566: ConvergenceWarning: Stochastic Optimizer: Maximum iterations (10) reached and the optimization hasn't converged yet.\n",
      "  % self.max_iter, ConvergenceWarning)\n",
      "\n",
      "\n",
      " 80%|██████████████████████████████████████████████████████████████████▍                | 8/10 [00:21<00:05,  2.64s/it]C:\\Users\\admin\\Anaconda3\\lib\\site-packages\\sklearn\\neural_network\\multilayer_perceptron.py:566: ConvergenceWarning: Stochastic Optimizer: Maximum iterations (10) reached and the optimization hasn't converged yet.\n",
      "  % self.max_iter, ConvergenceWarning)\n",
      "\n",
      "\n",
      " 90%|██████████████████████████████████████████████████████████████████████████▋        | 9/10 [00:23<00:02,  2.63s/it]C:\\Users\\admin\\Anaconda3\\lib\\site-packages\\sklearn\\neural_network\\multilayer_perceptron.py:566: ConvergenceWarning: Stochastic Optimizer: Maximum iterations (10) reached and the optimization hasn't converged yet.\n",
      "  % self.max_iter, ConvergenceWarning)\n",
      "\n",
      "\n",
      "100%|██████████████████████████████████████████████████████████████████████████████████| 10/10 [00:26<00:00,  2.64s/it]\n",
      "\n",
      "\n",
      "  0%|                                                                                           | 0/10 [00:00<?, ?it/s]\n",
      "\n",
      " 10%|████████▎                                                                          | 1/10 [00:00<00:05,  1.76it/s]\n",
      "\n",
      " 20%|████████████████▌                                                                  | 2/10 [00:01<00:04,  1.78it/s]\n",
      "\n",
      " 30%|████████████████████████▉                                                          | 3/10 [00:01<00:03,  1.75it/s]\n",
      "\n",
      " 40%|█████████████████████████████████▏                                                 | 4/10 [00:02<00:03,  1.76it/s]\n",
      "\n",
      " 50%|█████████████████████████████████████████▌                                         | 5/10 [00:02<00:02,  1.77it/s]\n",
      "\n",
      " 60%|█████████████████████████████████████████████████▊                                 | 6/10 [00:03<00:02,  1.77it/s]\n",
      "\n",
      " 70%|██████████████████████████████████████████████████████████                         | 7/10 [00:03<00:01,  1.78it/s]\n",
      "\n",
      " 80%|██████████████████████████████████████████████████████████████████▍                | 8/10 [00:04<00:01,  1.79it/s]\n",
      "\n",
      " 90%|██████████████████████████████████████████████████████████████████████████▋        | 9/10 [00:05<00:00,  1.78it/s]\n",
      "\n",
      "100%|██████████████████████████████████████████████████████████████████████████████████| 10/10 [00:05<00:00,  1.78it/s]\n"
     ]
    }
   ],
   "source": [
    "# train an ensemble of 10 single layer nets\n",
    "lay = 3 # intermediate layer to build on top\n",
    "# base classifier\n",
    "clf_base = make_pipeline(StandardScaler(), MLPClassifier(random_state=1, hidden_layer_sizes=(), max_iter=10))\n",
    "n_clfs = 10 # number of ensemble classifiers\n",
    "portion = 0.7 # random data portion to train each member\n",
    "\n",
    "# train all classifiers, get results (pred classes and probabilities)\n",
    "Ypred_ind, Ppred_ind, Ypred_ood, Ppred_ood = ens_utils.do_all_clf(clf_base, A, Ares, B, Bres, C, Cres, n_classes, lay, layer_sizes_mean, n_clfs, portion)"
   ]
  },
  {
   "cell_type": "markdown",
   "metadata": {},
   "source": [
    "### Evaluate Performance"
   ]
  },
  {
   "cell_type": "markdown",
   "metadata": {},
   "source": [
    "After training is finished, we can evaluate the uncertainty estimation performance."
   ]
  },
  {
   "cell_type": "code",
   "execution_count": 6,
   "metadata": {},
   "outputs": [
    {
     "data": {
      "image/png": "[encoded data removed]",
      "text/plain": [
       "<Figure size 432x288 with 1 Axes>"
      ]
     },
     "metadata": {
      "needs_background": "light"
     },
     "output_type": "display_data"
    }
   ],
   "source": [
    "# measure performance\n",
    "# get entropy scores of IND and OOD\n",
    "known = ens_utils.entropy_scores(Bres, Ppred_ind)\n",
    "novel = ens_utils.entropy_scores(Cres, Ppred_ood)\n",
    "\n",
    "# measure perf\n",
    "tnr_at_tpr95, auroc, dtacc, _, _ = metrics.calc_metrics(known, novel)\n",
    "\n",
    "# results of all methods (for plotting)\n",
    "AUROC_ALL = (99.9, 100 * auroc)\n",
    "\n",
    "# plot bar chart\n",
    "myplots.make_barplot([AUROC_ALL], \n",
    "                     'CIFAR10 Densenet (FGSM)', ['Mahanalobis', 'Ensembles'], \n",
    "                     ['AUROC'])"
   ]
  },
  {
   "cell_type": "markdown",
   "metadata": {},
   "source": [
    "## Experiment 2: CIFAR 100 on Densenet (BIM)"
   ]
  },
  {
   "cell_type": "markdown",
   "metadata": {},
   "source": [
    "### Load model and parameters"
   ]
  },
  {
   "cell_type": "markdown",
   "metadata": {},
   "source": [
    "First, we load the model, as well as some parameters for preprocessing the data, adversarial attack type and params, etc."
   ]
  },
  {
   "cell_type": "code",
   "execution_count": 7,
   "metadata": {},
   "outputs": [
    {
     "name": "stderr",
     "output_type": "stream",
     "text": [
      "C:\\Users\\admin\\Anaconda3\\lib\\site-packages\\torch\\serialization.py:657: SourceChangeWarning: source code of class 'densenet.DenseNet3' has changed. you can retrieve the original source code by accessing the object's source attribute or set `torch.nn.Module.dump_patches = True` and use the patch tool to revert the changes.\n",
      "  warnings.warn(msg, SourceChangeWarning)\n",
      "C:\\Users\\admin\\Anaconda3\\lib\\site-packages\\torch\\serialization.py:657: SourceChangeWarning: source code of class 'torch.nn.modules.conv.Conv2d' has changed. you can retrieve the original source code by accessing the object's source attribute or set `torch.nn.Module.dump_patches = True` and use the patch tool to revert the changes.\n",
      "  warnings.warn(msg, SourceChangeWarning)\n",
      "C:\\Users\\admin\\Anaconda3\\lib\\site-packages\\torch\\serialization.py:657: SourceChangeWarning: source code of class 'densenet.DenseBlock' has changed. you can retrieve the original source code by accessing the object's source attribute or set `torch.nn.Module.dump_patches = True` and use the patch tool to revert the changes.\n",
      "  warnings.warn(msg, SourceChangeWarning)\n",
      "C:\\Users\\admin\\Anaconda3\\lib\\site-packages\\torch\\serialization.py:657: SourceChangeWarning: source code of class 'torch.nn.modules.container.Sequential' has changed. you can retrieve the original source code by accessing the object's source attribute or set `torch.nn.Module.dump_patches = True` and use the patch tool to revert the changes.\n",
      "  warnings.warn(msg, SourceChangeWarning)\n",
      "C:\\Users\\admin\\Anaconda3\\lib\\site-packages\\torch\\serialization.py:657: SourceChangeWarning: source code of class 'torch.nn.modules.batchnorm.BatchNorm2d' has changed. you can retrieve the original source code by accessing the object's source attribute or set `torch.nn.Module.dump_patches = True` and use the patch tool to revert the changes.\n",
      "  warnings.warn(msg, SourceChangeWarning)\n",
      "C:\\Users\\admin\\Anaconda3\\lib\\site-packages\\torch\\serialization.py:657: SourceChangeWarning: source code of class 'torch.nn.modules.activation.ReLU' has changed. you can retrieve the original source code by accessing the object's source attribute or set `torch.nn.Module.dump_patches = True` and use the patch tool to revert the changes.\n",
      "  warnings.warn(msg, SourceChangeWarning)\n",
      "C:\\Users\\admin\\Anaconda3\\lib\\site-packages\\torch\\serialization.py:657: SourceChangeWarning: source code of class 'torch.nn.modules.linear.Linear' has changed. you can retrieve the original source code by accessing the object's source attribute or set `torch.nn.Module.dump_patches = True` and use the patch tool to revert the changes.\n",
      "  warnings.warn(msg, SourceChangeWarning)\n"
     ]
    }
   ],
   "source": [
    "# load the model\n",
    "model_type = 'densenet'\n",
    "pre_trained_net = 'models/densenet_cifar100.pth'\n",
    "model = torch.load(pre_trained_net)\n",
    "# fix model (due to previous torch version)\n",
    "dnn_utils.fix_model(model)\n",
    "# put model in eval mode\n",
    "model.eval()\n",
    "\n",
    "# some extra params\n",
    "batch_size = 10 # we set low batch size to some cases, in case of gpu memory issues\n",
    "n_classes = 100\n",
    "layer_sizes_mean = [24, 108, 150, 342, n_classes]\n",
    "# normalization transform for that model\n",
    "min_pixel = -1.98888885975\n",
    "max_pixel = 2.12560367584\n",
    "norm_trans_std = (63.0/255, 62.1/255.0, 66.7/255.0) \n",
    "transform = transforms.Compose([transforms.ToTensor(), \n",
    "                                transforms.Normalize((125.3/255, 123.0/255, 113.9/255), (63.0/255, 62.1/255.0, 66.7/255.0)),])\n",
    "\n",
    "# adv attack settings\n",
    "adv_type = 'BIM'\n",
    "\n",
    "if adv_type == 'FGSM':\n",
    "    adv_noise = 0.05\n",
    "elif adv_type == 'BIM':\n",
    "    adv_noise = 0.01\n",
    "else:\n",
    "    adv_noise = 0.01"
   ]
  },
  {
   "cell_type": "markdown",
   "metadata": {},
   "source": [
    "### Load datasets"
   ]
  },
  {
   "cell_type": "markdown",
   "metadata": {},
   "source": [
    "Then, we load the IND and OOD datasets"
   ]
  },
  {
   "cell_type": "code",
   "execution_count": 8,
   "metadata": {},
   "outputs": [
    {
     "name": "stdout",
     "output_type": "stream",
     "text": [
      "Files already downloaded and verified\n",
      "Files already downloaded and verified\n"
     ]
    }
   ],
   "source": [
    "# load data\n",
    "# CIFAR100\n",
    "trainset = datasets.CIFAR100(root='data', train=True,\n",
    "                                        download=True, transform=transform)\n",
    "ind_train_loader = torch.utils.data.DataLoader(trainset, batch_size=batch_size,\n",
    "                                          shuffle=True, num_workers=0)\n",
    "\n",
    "testset = datasets.CIFAR100(root='data', train=False,\n",
    "                                       download=True, transform=transform)\n",
    "ind_test_loader = torch.utils.data.DataLoader(testset, batch_size=batch_size,\n",
    "                                         shuffle=True, num_workers=0)\n",
    "\n",
    "if model_type == 'densenet':\n",
    "    if adv_type == 'FGSM':\n",
    "        random_noise_size = 0.21 / 8\n",
    "    elif adv_type == 'BIM':\n",
    "        random_noise_size = 0.21 / 8\n",
    "    elif adv_type == 'DeepFool':\n",
    "        random_noise_size = 0.13 * 2 / 8\n",
    "        adv_noise = 0.1\n",
    "    elif adv_type == 'CWL2':\n",
    "        random_noise_size = 0.06 / 5\n",
    "elif model_type == 'resnet':\n",
    "    if adv_type == 'FGSM':\n",
    "        random_noise_size = 0.25 / 8\n",
    "    elif adv_type == 'BIM':\n",
    "        random_noise_size = 0.13 / 4\n",
    "    elif adv_type == 'DeepFool':\n",
    "        random_noise_size = 0.13 / 4\n",
    "        adv_noise = 0.03\n",
    "    elif adv_type == 'CWL2':\n",
    "        random_noise_size = 0.05 / 2"
   ]
  },
  {
   "cell_type": "markdown",
   "metadata": {},
   "source": [
    "### Extract intermediate activations - features"
   ]
  },
  {
   "cell_type": "markdown",
   "metadata": {},
   "source": [
    "Next, we collect the intermediate layer activations (features) of all datasets. We extract these in the same way as in the Mahanalobis paper (from the same blocks, using channnel-wise averaging, etc. - see paper for the details). Intermediate features are stored in 2D arrays, and also the predictions results (pred vs label) are also extracted. We also have functions tp extract the needed layer features form these arrays later. Here, we obtain intermediate features for the clean as well as for the perturbed data. In some cases, we extract features only for a random sample of the perturbed data, since some adversarial attacks are slow (typically around 1000 samples)."
   ]
  },
  {
   "cell_type": "code",
   "execution_count": 2,
   "metadata": {},
   "outputs": [
    {
     "ename": "NameError",
     "evalue": "name 'ind_train_loader' is not defined",
     "output_type": "error",
     "traceback": [
      "\u001b[1;31m---------------------------------------------------------------------------\u001b[0m",
      "\u001b[1;31mNameError\u001b[0m                                 Traceback (most recent call last)",
      "\u001b[1;32m<ipython-input-2-5edc17683a57>\u001b[0m in \u001b[0;36m<module>\u001b[1;34m\u001b[0m\n\u001b[0;32m      2\u001b[0m \u001b[1;33m\u001b[0m\u001b[0m\n\u001b[0;32m      3\u001b[0m \u001b[1;31m# IND training features\u001b[0m\u001b[1;33m\u001b[0m\u001b[1;33m\u001b[0m\u001b[1;33m\u001b[0m\u001b[0m\n\u001b[1;32m----> 4\u001b[1;33m \u001b[0mA\u001b[0m\u001b[1;33m,\u001b[0m \u001b[0mAres\u001b[0m \u001b[1;33m=\u001b[0m \u001b[0mexp_utils\u001b[0m\u001b[1;33m.\u001b[0m\u001b[0mcollectActivMah\u001b[0m\u001b[1;33m(\u001b[0m\u001b[0mind_train_loader\u001b[0m\u001b[1;33m,\u001b[0m \u001b[0mmodel\u001b[0m\u001b[1;33m,\u001b[0m \u001b[0mlayer_sizes_mean\u001b[0m\u001b[1;33m)\u001b[0m\u001b[1;33m\u001b[0m\u001b[1;33m\u001b[0m\u001b[0m\n\u001b[0m\u001b[0;32m      5\u001b[0m \u001b[1;33m\u001b[0m\u001b[0m\n\u001b[0;32m      6\u001b[0m \u001b[1;31m# IND test features\u001b[0m\u001b[1;33m\u001b[0m\u001b[1;33m\u001b[0m\u001b[1;33m\u001b[0m\u001b[0m\n",
      "\u001b[1;31mNameError\u001b[0m: name 'ind_train_loader' is not defined"
     ]
    }
   ],
   "source": [
    "# collect intermediate layer activations (features) on data\n",
    "\n",
    "# IND training features\n",
    "A, Ares = exp_utils.collectActivMah(ind_train_loader, model, layer_sizes_mean)\n",
    "\n",
    "# IND test features\n",
    "B, Bres = exp_utils.collectActivMah(ind_test_loader, model, layer_sizes_mean, 1000)\n",
    "\n",
    "# collect adversarially perturbed activations\n",
    "\n",
    "# IND adv features\n",
    "C, Cres = exp_utils.collectActivAdv(ind_test_loader, model, n_classes, layer_sizes_mean, adv_type, \n",
    "                                    random_noise_size, min_pixel, max_pixel, norm_trans_std, \n",
    "                                    adv_noise, 1000)"
   ]
  },
  {
   "cell_type": "markdown",
   "metadata": {},
   "source": [
    "### Train ensembles on selected intermediate features"
   ]
  },
  {
   "cell_type": "markdown",
   "metadata": {},
   "source": [
    "After intermediate features are obtained, we can then train an esemble on them, as described above. We train the esnembles on the training data, and then evaluate uncertainties on the test datasets (IND and ADV)."
   ]
  },
  {
   "cell_type": "code",
   "execution_count": 10,
   "metadata": {},
   "outputs": [
    {
     "name": "stderr",
     "output_type": "stream",
     "text": [
      "\n",
      "\n",
      "\n",
      "\n",
      "  0%|                                                                                           | 0/10 [00:00<?, ?it/s]C:\\Users\\admin\\Anaconda3\\lib\\site-packages\\sklearn\\neural_network\\multilayer_perceptron.py:566: ConvergenceWarning: Stochastic Optimizer: Maximum iterations (10) reached and the optimization hasn't converged yet.\n",
      "  % self.max_iter, ConvergenceWarning)\n",
      "\n",
      "\n",
      "\n",
      "\n",
      " 10%|████████▎                                                                          | 1/10 [00:05<00:52,  5.88s/it]C:\\Users\\admin\\Anaconda3\\lib\\site-packages\\sklearn\\neural_network\\multilayer_perceptron.py:566: ConvergenceWarning: Stochastic Optimizer: Maximum iterations (10) reached and the optimization hasn't converged yet.\n",
      "  % self.max_iter, ConvergenceWarning)\n",
      "\n",
      "\n",
      "\n",
      "\n",
      " 20%|████████████████▌                                                                  | 2/10 [00:11<00:46,  5.87s/it]C:\\Users\\admin\\Anaconda3\\lib\\site-packages\\sklearn\\neural_network\\multilayer_perceptron.py:566: ConvergenceWarning: Stochastic Optimizer: Maximum iterations (10) reached and the optimization hasn't converged yet.\n",
      "  % self.max_iter, ConvergenceWarning)\n",
      "\n",
      "\n",
      "\n",
      "\n",
      " 30%|████████████████████████▉                                                          | 3/10 [00:17<00:40,  5.80s/it]C:\\Users\\admin\\Anaconda3\\lib\\site-packages\\sklearn\\neural_network\\multilayer_perceptron.py:566: ConvergenceWarning: Stochastic Optimizer: Maximum iterations (10) reached and the optimization hasn't converged yet.\n",
      "  % self.max_iter, ConvergenceWarning)\n",
      "\n",
      "\n",
      "\n",
      "\n",
      " 40%|█████████████████████████████████▏                                                 | 4/10 [00:23<00:35,  5.86s/it]C:\\Users\\admin\\Anaconda3\\lib\\site-packages\\sklearn\\neural_network\\multilayer_perceptron.py:566: ConvergenceWarning: Stochastic Optimizer: Maximum iterations (10) reached and the optimization hasn't converged yet.\n",
      "  % self.max_iter, ConvergenceWarning)\n",
      "\n",
      "\n",
      "\n",
      "\n",
      " 50%|█████████████████████████████████████████▌                                         | 5/10 [00:29<00:29,  5.91s/it]C:\\Users\\admin\\Anaconda3\\lib\\site-packages\\sklearn\\neural_network\\multilayer_perceptron.py:566: ConvergenceWarning: Stochastic Optimizer: Maximum iterations (10) reached and the optimization hasn't converged yet.\n",
      "  % self.max_iter, ConvergenceWarning)\n",
      "\n",
      "\n",
      "\n",
      "\n",
      " 60%|█████████████████████████████████████████████████▊                                 | 6/10 [00:35<00:23,  5.95s/it]C:\\Users\\admin\\Anaconda3\\lib\\site-packages\\sklearn\\neural_network\\multilayer_perceptron.py:566: ConvergenceWarning: Stochastic Optimizer: Maximum iterations (10) reached and the optimization hasn't converged yet.\n",
      "  % self.max_iter, ConvergenceWarning)\n",
      "\n",
      "\n",
      "\n",
      "\n",
      " 70%|██████████████████████████████████████████████████████████                         | 7/10 [00:41<00:17,  5.90s/it]C:\\Users\\admin\\Anaconda3\\lib\\site-packages\\sklearn\\neural_network\\multilayer_perceptron.py:566: ConvergenceWarning: Stochastic Optimizer: Maximum iterations (10) reached and the optimization hasn't converged yet.\n",
      "  % self.max_iter, ConvergenceWarning)\n",
      "\n",
      "\n",
      "\n",
      "\n",
      " 80%|██████████████████████████████████████████████████████████████████▍                | 8/10 [00:47<00:11,  5.87s/it]C:\\Users\\admin\\Anaconda3\\lib\\site-packages\\sklearn\\neural_network\\multilayer_perceptron.py:566: ConvergenceWarning: Stochastic Optimizer: Maximum iterations (10) reached and the optimization hasn't converged yet.\n",
      "  % self.max_iter, ConvergenceWarning)\n",
      "\n",
      "\n",
      "\n",
      "\n",
      " 90%|██████████████████████████████████████████████████████████████████████████▋        | 9/10 [00:53<00:06,  6.00s/it]C:\\Users\\admin\\Anaconda3\\lib\\site-packages\\sklearn\\neural_network\\multilayer_perceptron.py:566: ConvergenceWarning: Stochastic Optimizer: Maximum iterations (10) reached and the optimization hasn't converged yet.\n",
      "  % self.max_iter, ConvergenceWarning)\n",
      "\n",
      "\n",
      "\n",
      "\n",
      "100%|██████████████████████████████████████████████████████████████████████████████████| 10/10 [00:59<00:00,  5.93s/it]\n",
      "\n",
      "\n",
      "\n",
      "\n",
      "  0%|                                                                                           | 0/10 [00:00<?, ?it/s]\n",
      "\n",
      "\n",
      "\n",
      " 10%|████████▎                                                                          | 1/10 [00:01<00:09,  1.02s/it]\n",
      "\n",
      "\n",
      "\n",
      " 20%|████████████████▌                                                                  | 2/10 [00:01<00:07,  1.00it/s]\n",
      "\n",
      "\n",
      "\n",
      " 30%|████████████████████████▉                                                          | 3/10 [00:02<00:06,  1.03it/s]\n",
      "\n",
      "\n",
      "\n",
      " 40%|█████████████████████████████████▏                                                 | 4/10 [00:03<00:05,  1.04it/s]\n",
      "\n",
      "\n",
      "\n",
      " 50%|█████████████████████████████████████████▌                                         | 5/10 [00:04<00:04,  1.05it/s]\n",
      "\n",
      "\n",
      "\n",
      " 60%|█████████████████████████████████████████████████▊                                 | 6/10 [00:05<00:03,  1.04it/s]\n",
      "\n",
      "\n",
      "\n",
      " 70%|██████████████████████████████████████████████████████████                         | 7/10 [00:06<00:02,  1.04it/s]\n",
      "\n",
      "\n",
      "\n",
      " 80%|██████████████████████████████████████████████████████████████████▍                | 8/10 [00:07<00:01,  1.06it/s]\n",
      "\n",
      "\n",
      "\n",
      " 90%|██████████████████████████████████████████████████████████████████████████▋        | 9/10 [00:08<00:00,  1.07it/s]\n",
      "\n",
      "\n",
      "\n",
      "100%|██████████████████████████████████████████████████████████████████████████████████| 10/10 [00:09<00:00,  1.06it/s]\n"
     ]
    }
   ],
   "source": [
    "# train an ensemble of 10 single layer nets\n",
    "lay = 3 # intermediate layer to build on top\n",
    "# base classifier\n",
    "clf_base = make_pipeline(StandardScaler(), MLPClassifier(random_state=1, hidden_layer_sizes=(), max_iter=10))\n",
    "n_clfs = 10 # number of ensemble classifiers\n",
    "portion = 0.7 # random data portion to train each member\n",
    "\n",
    "# train all classifiers, get results (pred classes and probabilities)\n",
    "Ypred_ind, Ppred_ind, Ypred_ood, Ppred_ood = ens_utils.do_all_clf(clf_base, A, Ares, B, Bres, C, Cres, n_classes, lay, layer_sizes_mean, n_clfs, portion)"
   ]
  },
  {
   "cell_type": "markdown",
   "metadata": {},
   "source": [
    "### Evaluate Performance"
   ]
  },
  {
   "cell_type": "markdown",
   "metadata": {},
   "source": [
    "After training is finished, we can evaluate the uncertainty estimation performance."
   ]
  },
  {
   "cell_type": "code",
   "execution_count": 11,
   "metadata": {},
   "outputs": [
    {
     "data": {
      "image/png": "[encoded data removed]",
      "text/plain": [
       "<Figure size 432x288 with 1 Axes>"
      ]
     },
     "metadata": {
      "needs_background": "light"
     },
     "output_type": "display_data"
    }
   ],
   "source": [
    "# measure performance\n",
    "# get entropy scores of IND and OOD\n",
    "known = ens_utils.entropy_scores(Bres, Ppred_ind)\n",
    "novel = ens_utils.entropy_scores(Cres, Ppred_ood)\n",
    "\n",
    "# measure perf\n",
    "tnr_at_tpr95, auroc, dtacc, _, _ = metrics.calc_metrics(known, novel)\n",
    "\n",
    "# results of all methods (for plotting)\n",
    "AUROC_ALL = (98.3, 100 * auroc)\n",
    "\n",
    "# plot bar chart\n",
    "myplots.make_barplot([AUROC_ALL], \n",
    "                     'CIFAR100 Densenet (BIM)', ['Mahanalobis', 'Ensembles'], \n",
    "                     ['AUROC'])"
   ]
  },
  {
   "cell_type": "markdown",
   "metadata": {},
   "source": [
    "## Experiment 3: CIFAR 100 on Resnet (Carlini Wagner)"
   ]
  },
  {
   "cell_type": "markdown",
   "metadata": {},
   "source": [
    "### Load model and parameters"
   ]
  },
  {
   "cell_type": "markdown",
   "metadata": {},
   "source": [
    "First, we load the model, as well as some parameters for preprocessing the data, adversarial attack type and params, etc."
   ]
  },
  {
   "cell_type": "code",
   "execution_count": 2,
   "metadata": {},
   "outputs": [],
   "source": [
    "# load the model\n",
    "model_type = 'resnet'\n",
    "device = 'cuda'\n",
    "pre_trained_net = '../models/resnet_cifar100.pth'\n",
    "n_classes = 100\n",
    "model = resnet.ResNet34(num_c = n_classes).to(device)\n",
    "# load the model\n",
    "model.load_state_dict(torch.load(pre_trained_net, map_location = device))\n",
    "# set in eval mode\n",
    "model.eval()\n",
    "\n",
    "# some extra params\n",
    "batch_size = 10\n",
    "layer_sizes_mean = [64, 64, 128, 256, 512, n_classes]\n",
    "# normalization transform for that model\n",
    "min_pixel = -2.42906570435\n",
    "max_pixel = 2.75373125076\n",
    "norm_trans_std = (0.2023, 0.1994, 0.2010)\n",
    "transform = transforms.Compose([transforms.ToTensor(), \n",
    "                                transforms.Normalize((0.4914, 0.4822, 0.4465), (0.2023, 0.1994, 0.2010)),])\n",
    "# adv attack settings\n",
    "adv_type = 'CWL2'\n",
    "\n",
    "if adv_type == 'FGSM':\n",
    "    adv_noise = 0.05\n",
    "elif adv_type == 'BIM':\n",
    "    adv_noise = 0.01\n",
    "else:\n",
    "    adv_noise = 0.01"
   ]
  },
  {
   "cell_type": "markdown",
   "metadata": {},
   "source": [
    "### Load datasets"
   ]
  },
  {
   "cell_type": "markdown",
   "metadata": {},
   "source": [
    "Then, we load the IND and OOD datasets"
   ]
  },
  {
   "cell_type": "code",
   "execution_count": 3,
   "metadata": {},
   "outputs": [
    {
     "name": "stdout",
     "output_type": "stream",
     "text": [
      "Files already downloaded and verified\n",
      "Files already downloaded and verified\n"
     ]
    }
   ],
   "source": [
    "# load data\n",
    "# CIFAR100\n",
    "trainset = datasets.CIFAR100(root='data', train=True,\n",
    "                                        download=True, transform=transform)\n",
    "ind_train_loader = torch.utils.data.DataLoader(trainset, batch_size=batch_size,\n",
    "                                          shuffle=True, num_workers=0)\n",
    "\n",
    "testset = datasets.CIFAR100(root='data', train=False,\n",
    "                                       download=True, transform=transform)\n",
    "ind_test_loader = torch.utils.data.DataLoader(testset, batch_size=batch_size,\n",
    "                                         shuffle=True, num_workers=0)\n",
    "\n",
    "if model_type == 'densenet':\n",
    "    if adv_type == 'FGSM':\n",
    "        random_noise_size = 0.21 / 8\n",
    "    elif adv_type == 'BIM':\n",
    "        random_noise_size = 0.21 / 8\n",
    "    elif adv_type == 'DeepFool':\n",
    "        random_noise_size = 0.13 * 2 / 8\n",
    "        adv_noise = 0.1\n",
    "    elif adv_type == 'CWL2':\n",
    "        random_noise_size = 0.06 / 5\n",
    "elif model_type == 'resnet':\n",
    "    if adv_type == 'FGSM':\n",
    "        random_noise_size = 0.25 / 8\n",
    "    elif adv_type == 'BIM':\n",
    "        random_noise_size = 0.13 / 4\n",
    "    elif adv_type == 'DeepFool':\n",
    "        random_noise_size = 0.13 / 4\n",
    "        adv_noise = 0.03\n",
    "    elif adv_type == 'CWL2':\n",
    "        random_noise_size = 0.05 / 2"
   ]
  },
  {
   "cell_type": "markdown",
   "metadata": {},
   "source": [
    "### Extract intermediate activations - features"
   ]
  },
  {
   "cell_type": "markdown",
   "metadata": {},
   "source": [
    "Next, we collect the intermediate layer activations (features) of all datasets. We extract these in the same way as in the Mahanalobis paper (from the same blocks, using channnel-wise averaging, etc. - see paper for the details). Intermediate features are stored in 2D arrays, and also the predictions results (pred vs label) are also extracted. We also have functions tp extract the needed layer features form these arrays later. Here, we obtain intermediate features for the clean as well as for the perturbed data. In some cases, we extract features only for a random sample of the perturbed data, since some adversarial attacks are slow (typically around 1000 samples)."
   ]
  },
  {
   "cell_type": "code",
   "execution_count": null,
   "metadata": {
    "scrolled": false
   },
   "outputs": [],
   "source": [
    "# collect intermediate layer activations (features) on data\n",
    "\n",
    "# IND training features\n",
    "A, Ares = exp_utils.collectActivMah(ind_train_loader, model, layer_sizes_mean)\n",
    "\n",
    "# IND test features\n",
    "B, Bres = exp_utils.collectActivMah(ind_test_loader, model, layer_sizes_mean, 500)\n",
    "\n",
    "# collect adversarially perturbed activations\n",
    "\n",
    "# IND adv features\n",
    "C, Cres = exp_utils.collectActivAdv(ind_test_loader, model, n_classes, layer_sizes_mean, adv_type, \n",
    "                                    random_noise_size, min_pixel, max_pixel, norm_trans_std, \n",
    "                                    adv_noise, 500)"
   ]
  },
  {
   "cell_type": "markdown",
   "metadata": {},
   "source": [
    "### Train ensembles on selected intermediate features"
   ]
  },
  {
   "cell_type": "markdown",
   "metadata": {},
   "source": [
    "After intermediate features are obtained, we can then train an esemble on them, as described above. We train the esnembles on the training data, and then evaluate uncertainties on the test datasets (IND and ADV)."
   ]
  },
  {
   "cell_type": "code",
   "execution_count": 10,
   "metadata": {},
   "outputs": [
    {
     "name": "stderr",
     "output_type": "stream",
     "text": [
      "\n",
      "  0%|                                                                                           | 0/10 [00:00<?, ?it/s]C:\\Users\\admin\\Anaconda3\\lib\\site-packages\\sklearn\\neural_network\\multilayer_perceptron.py:566: ConvergenceWarning: Stochastic Optimizer: Maximum iterations (10) reached and the optimization hasn't converged yet.\n",
      "  % self.max_iter, ConvergenceWarning)\n",
      "\n",
      " 10%|████████▎                                                                          | 1/10 [00:04<00:42,  4.69s/it]C:\\Users\\admin\\Anaconda3\\lib\\site-packages\\sklearn\\neural_network\\multilayer_perceptron.py:566: ConvergenceWarning: Stochastic Optimizer: Maximum iterations (10) reached and the optimization hasn't converged yet.\n",
      "  % self.max_iter, ConvergenceWarning)\n",
      "\n",
      " 20%|████████████████▌                                                                  | 2/10 [00:09<00:37,  4.67s/it]C:\\Users\\admin\\Anaconda3\\lib\\site-packages\\sklearn\\neural_network\\multilayer_perceptron.py:566: ConvergenceWarning: Stochastic Optimizer: Maximum iterations (10) reached and the optimization hasn't converged yet.\n",
      "  % self.max_iter, ConvergenceWarning)\n",
      "\n",
      " 30%|████████████████████████▉                                                          | 3/10 [00:13<00:32,  4.64s/it]C:\\Users\\admin\\Anaconda3\\lib\\site-packages\\sklearn\\neural_network\\multilayer_perceptron.py:566: ConvergenceWarning: Stochastic Optimizer: Maximum iterations (10) reached and the optimization hasn't converged yet.\n",
      "  % self.max_iter, ConvergenceWarning)\n",
      "\n",
      " 40%|█████████████████████████████████▏                                                 | 4/10 [00:18<00:27,  4.63s/it]C:\\Users\\admin\\Anaconda3\\lib\\site-packages\\sklearn\\neural_network\\multilayer_perceptron.py:566: ConvergenceWarning: Stochastic Optimizer: Maximum iterations (10) reached and the optimization hasn't converged yet.\n",
      "  % self.max_iter, ConvergenceWarning)\n",
      "\n",
      " 50%|█████████████████████████████████████████▌                                         | 5/10 [00:23<00:23,  4.62s/it]C:\\Users\\admin\\Anaconda3\\lib\\site-packages\\sklearn\\neural_network\\multilayer_perceptron.py:566: ConvergenceWarning: Stochastic Optimizer: Maximum iterations (10) reached and the optimization hasn't converged yet.\n",
      "  % self.max_iter, ConvergenceWarning)\n",
      "\n",
      " 60%|█████████████████████████████████████████████████▊                                 | 6/10 [00:27<00:18,  4.64s/it]C:\\Users\\admin\\Anaconda3\\lib\\site-packages\\sklearn\\neural_network\\multilayer_perceptron.py:566: ConvergenceWarning: Stochastic Optimizer: Maximum iterations (10) reached and the optimization hasn't converged yet.\n",
      "  % self.max_iter, ConvergenceWarning)\n",
      "\n",
      " 70%|██████████████████████████████████████████████████████████                         | 7/10 [00:32<00:13,  4.66s/it]C:\\Users\\admin\\Anaconda3\\lib\\site-packages\\sklearn\\neural_network\\multilayer_perceptron.py:566: ConvergenceWarning: Stochastic Optimizer: Maximum iterations (10) reached and the optimization hasn't converged yet.\n",
      "  % self.max_iter, ConvergenceWarning)\n",
      "\n",
      " 80%|██████████████████████████████████████████████████████████████████▍                | 8/10 [00:37<00:09,  4.66s/it]C:\\Users\\admin\\Anaconda3\\lib\\site-packages\\sklearn\\neural_network\\multilayer_perceptron.py:566: ConvergenceWarning: Stochastic Optimizer: Maximum iterations (10) reached and the optimization hasn't converged yet.\n",
      "  % self.max_iter, ConvergenceWarning)\n",
      "\n",
      " 90%|██████████████████████████████████████████████████████████████████████████▋        | 9/10 [00:41<00:04,  4.68s/it]C:\\Users\\admin\\Anaconda3\\lib\\site-packages\\sklearn\\neural_network\\multilayer_perceptron.py:566: ConvergenceWarning: Stochastic Optimizer: Maximum iterations (10) reached and the optimization hasn't converged yet.\n",
      "  % self.max_iter, ConvergenceWarning)\n",
      "\n",
      "100%|██████████████████████████████████████████████████████████████████████████████████| 10/10 [00:46<00:00,  4.64s/it]\n",
      "\n",
      "  0%|                                                                                           | 0/10 [00:00<?, ?it/s]\n",
      " 10%|████████▎                                                                          | 1/10 [00:00<00:08,  1.09it/s]\n",
      " 20%|████████████████▌                                                                  | 2/10 [00:01<00:07,  1.13it/s]\n",
      " 30%|████████████████████████▉                                                          | 3/10 [00:02<00:06,  1.15it/s]\n",
      " 40%|█████████████████████████████████▏                                                 | 4/10 [00:03<00:05,  1.17it/s]\n",
      " 50%|█████████████████████████████████████████▌                                         | 5/10 [00:04<00:04,  1.19it/s]\n",
      " 60%|█████████████████████████████████████████████████▊                                 | 6/10 [00:04<00:03,  1.21it/s]\n",
      " 70%|██████████████████████████████████████████████████████████                         | 7/10 [00:05<00:02,  1.23it/s]\n",
      " 80%|██████████████████████████████████████████████████████████████████▍                | 8/10 [00:06<00:01,  1.22it/s]\n",
      " 90%|██████████████████████████████████████████████████████████████████████████▋        | 9/10 [00:07<00:00,  1.23it/s]\n",
      "100%|██████████████████████████████████████████████████████████████████████████████████| 10/10 [00:08<00:00,  1.22it/s]\n"
     ]
    }
   ],
   "source": [
    "# train an ensemble of 10 single layer nets\n",
    "lay = 3 # intermediate layer to build on top\n",
    "# base classifier\n",
    "clf_base = make_pipeline(StandardScaler(), MLPClassifier(random_state=1, hidden_layer_sizes=(), max_iter=10))\n",
    "n_clfs = 10 # number of ensemble classifiers\n",
    "portion = 0.7 # random data portion to train each member\n",
    "\n",
    "# train all classifiers, get results (pred classes and probabilities)\n",
    "Ypred_ind, Ppred_ind, Ypred_ood, Ppred_ood = ens_utils.do_all_clf(clf_base, A, Ares, B, Bres, C, Cres, n_classes, lay, layer_sizes_mean, n_clfs, portion)"
   ]
  },
  {
   "cell_type": "markdown",
   "metadata": {},
   "source": [
    "### Evaluate Performance"
   ]
  },
  {
   "cell_type": "markdown",
   "metadata": {},
   "source": [
    "After training is finished, we can evaluate the uncertainty estimation performance."
   ]
  },
  {
   "cell_type": "code",
   "execution_count": 11,
   "metadata": {},
   "outputs": [
    {
     "data": {
      "image/png": "[encoded data removed]",
      "text/plain": [
       "<Figure size 432x288 with 1 Axes>"
      ]
     },
     "metadata": {
      "needs_background": "light"
     },
     "output_type": "display_data"
    }
   ],
   "source": [
    "# measure performance\n",
    "# get entropy scores of IND and OOD\n",
    "known = ens_utils.entropy_scores(Bres, Ppred_ind)\n",
    "novel = ens_utils.entropy_scores(Cres, Ppred_ood)\n",
    "\n",
    "# measure perf\n",
    "tnr_at_tpr95, auroc, dtacc, _, _ = metrics.calc_metrics(known, novel)\n",
    "\n",
    "# results of all methods (for plotting)\n",
    "AUROC_ALL = (91, 100 * auroc)\n",
    "\n",
    "# plot bar chart\n",
    "myplots.make_barplot([AUROC_ALL], \n",
    "                     'CIFAR100 Resnet (CW)', ['Mahanalobis', 'Ensembles'], \n",
    "                     ['AUROC'])"
   ]
  },
  {
   "cell_type": "markdown",
   "metadata": {},
   "source": [
    "## Experiment 4: SVHN on Resnet (Deep Fool)"
   ]
  },
  {
   "cell_type": "markdown",
   "metadata": {},
   "source": [
    "### Load model and parameters"
   ]
  },
  {
   "cell_type": "markdown",
   "metadata": {},
   "source": [
    "First, we load the model, as well as some parameters for preprocessing the data, adversarial attack type and params, etc."
   ]
  },
  {
   "cell_type": "code",
   "execution_count": 12,
   "metadata": {},
   "outputs": [],
   "source": [
    "# load the model\n",
    "model_type = 'resnet'\n",
    "device = 'cuda'\n",
    "pre_trained_net = '../models/resnet_svhn.pth'\n",
    "n_classes = 10\n",
    "model = resnet.ResNet34(num_c = n_classes).to(device)\n",
    "# load the model\n",
    "model.load_state_dict(torch.load(pre_trained_net, map_location = device))\n",
    "# set in eval mode\n",
    "model.eval()\n",
    "\n",
    "# some extra params\n",
    "batch_size = 10\n",
    "layer_sizes_mean = [64, 64, 128, 256, 512, n_classes]\n",
    "# normalization transform for that model\n",
    "min_pixel = -2.42906570435\n",
    "max_pixel = 2.75373125076\n",
    "norm_trans_std = (0.2023, 0.1994, 0.2010)\n",
    "transform = transforms.Compose([transforms.ToTensor(), \n",
    "                                transforms.Normalize((0.4914, 0.4822, 0.4465), (0.2023, 0.1994, 0.2010)),])\n",
    "# adv attack settings\n",
    "adv_type = 'DeepFool'\n",
    "\n",
    "if adv_type == 'FGSM':\n",
    "    adv_noise = 0.05\n",
    "elif adv_type == 'BIM':\n",
    "    adv_noise = 0.01\n",
    "else:\n",
    "    adv_noise = 0.01"
   ]
  },
  {
   "cell_type": "markdown",
   "metadata": {},
   "source": [
    "### Load datasets"
   ]
  },
  {
   "cell_type": "markdown",
   "metadata": {},
   "source": [
    "Then, we load the IND and OOD datasets"
   ]
  },
  {
   "cell_type": "code",
   "execution_count": 13,
   "metadata": {},
   "outputs": [
    {
     "name": "stdout",
     "output_type": "stream",
     "text": [
      "Using downloaded and verified file: data\\train_32x32.mat\n",
      "Using downloaded and verified file: data\\test_32x32.mat\n"
     ]
    }
   ],
   "source": [
    "# load data\n",
    "# SVHN\n",
    "trainset = datasets.SVHN(root='data', split='train',\n",
    "                                        download=True, transform=transform)\n",
    "ind_train_loader = torch.utils.data.DataLoader(trainset, batch_size=batch_size,\n",
    "                                          shuffle=True, num_workers=0)\n",
    "\n",
    "testset = datasets.SVHN(root='data', split='test',\n",
    "                                       download=True, transform=transform)\n",
    "ind_test_loader = torch.utils.data.DataLoader(testset, batch_size=batch_size,\n",
    "                                         shuffle=True, num_workers=0)\n",
    "\n",
    "if model_type == 'densenet':\n",
    "    if adv_type == 'FGSM':\n",
    "        random_noise_size = 0.21 / 4\n",
    "    elif adv_type == 'BIM':\n",
    "        random_noise_size = 0.21 / 4\n",
    "    elif adv_type == 'DeepFool':\n",
    "        random_noise_size = 0.16 * 2 / 5\n",
    "        adv_noise = 0.5\n",
    "    elif adv_type == 'CWL2':\n",
    "        random_noise_size = 0.07 / 2\n",
    "elif model_type == 'resnet':\n",
    "    if adv_type == 'FGSM':\n",
    "        random_noise_size = 0.25 / 4\n",
    "    elif adv_type == 'BIM':\n",
    "        random_noise_size = 0.13 / 2\n",
    "    elif adv_type == 'DeepFool':\n",
    "        random_noise_size = 0.126\n",
    "        adv_noise = 0.1\n",
    "    elif adv_type == 'CWL2':\n",
    "        random_noise_size = 0.05 / 1"
   ]
  },
  {
   "cell_type": "markdown",
   "metadata": {},
   "source": [
    "### Extract intermediate activations - features"
   ]
  },
  {
   "cell_type": "markdown",
   "metadata": {},
   "source": [
    "Next, we collect the intermediate layer activations (features) of all datasets. We extract these in the same way as in the Mahanalobis paper (from the same blocks, using channnel-wise averaging, etc. - see paper for the details). Intermediate features are stored in 2D arrays, and also the predictions results (pred vs label) are also extracted. We also have functions tp extract the needed layer features form these arrays later. Here, we obtain intermediate features for the clean as well as for the perturbed data. In some cases, we extract features only for a random sample of the perturbed data, since some adversarial attacks are slow (typically around 1000 samples)."
   ]
  },
  {
   "cell_type": "code",
   "execution_count": null,
   "metadata": {},
   "outputs": [],
   "source": [
    "# collect intermediate layer activations (features) on data\n",
    "\n",
    "# IND training features\n",
    "A, Ares = exp_utils.collectActivMah(ind_train_loader, model, layer_sizes_mean)\n",
    "\n",
    "# IND test features\n",
    "B, Bres = exp_utils.collectActivMah(ind_test_loader, model, layer_sizes_mean, 500)\n",
    "\n",
    "# collect adversarially perturbed activations\n",
    "\n",
    "# IND adv features\n",
    "C, Cres = exp_utils.collectActivAdv(ind_test_loader, model, n_classes, layer_sizes_mean, adv_type, \n",
    "                                    random_noise_size, min_pixel, max_pixel, norm_trans_std, \n",
    "                                    adv_noise, 500)"
   ]
  },
  {
   "cell_type": "markdown",
   "metadata": {},
   "source": [
    "### Train ensembles on selected intermediate features"
   ]
  },
  {
   "cell_type": "markdown",
   "metadata": {},
   "source": [
    "After intermediate features are obtained, we can then train an esemble on them, as described above. We train the esnembles on the training data, and then evaluate uncertainties on the test datasets (IND and ADV)."
   ]
  },
  {
   "cell_type": "code",
   "execution_count": 15,
   "metadata": {},
   "outputs": [
    {
     "name": "stderr",
     "output_type": "stream",
     "text": [
      "\n",
      "  0%|                                                                                           | 0/10 [00:00<?, ?it/s]C:\\Users\\admin\\Anaconda3\\lib\\site-packages\\sklearn\\neural_network\\multilayer_perceptron.py:566: ConvergenceWarning: Stochastic Optimizer: Maximum iterations (10) reached and the optimization hasn't converged yet.\n",
      "  % self.max_iter, ConvergenceWarning)\n",
      "\n",
      " 10%|████████▎                                                                          | 1/10 [00:03<00:30,  3.41s/it]C:\\Users\\admin\\Anaconda3\\lib\\site-packages\\sklearn\\neural_network\\multilayer_perceptron.py:566: ConvergenceWarning: Stochastic Optimizer: Maximum iterations (10) reached and the optimization hasn't converged yet.\n",
      "  % self.max_iter, ConvergenceWarning)\n",
      "\n",
      " 20%|████████████████▌                                                                  | 2/10 [00:06<00:27,  3.42s/it]C:\\Users\\admin\\Anaconda3\\lib\\site-packages\\sklearn\\neural_network\\multilayer_perceptron.py:566: ConvergenceWarning: Stochastic Optimizer: Maximum iterations (10) reached and the optimization hasn't converged yet.\n",
      "  % self.max_iter, ConvergenceWarning)\n",
      "\n",
      " 30%|████████████████████████▉                                                          | 3/10 [00:10<00:23,  3.35s/it]C:\\Users\\admin\\Anaconda3\\lib\\site-packages\\sklearn\\neural_network\\multilayer_perceptron.py:566: ConvergenceWarning: Stochastic Optimizer: Maximum iterations (10) reached and the optimization hasn't converged yet.\n",
      "  % self.max_iter, ConvergenceWarning)\n",
      "\n",
      " 40%|█████████████████████████████████▏                                                 | 4/10 [00:13<00:19,  3.29s/it]C:\\Users\\admin\\Anaconda3\\lib\\site-packages\\sklearn\\neural_network\\multilayer_perceptron.py:566: ConvergenceWarning: Stochastic Optimizer: Maximum iterations (10) reached and the optimization hasn't converged yet.\n",
      "  % self.max_iter, ConvergenceWarning)\n",
      "\n",
      " 50%|█████████████████████████████████████████▌                                         | 5/10 [00:16<00:16,  3.25s/it]C:\\Users\\admin\\Anaconda3\\lib\\site-packages\\sklearn\\neural_network\\multilayer_perceptron.py:566: ConvergenceWarning: Stochastic Optimizer: Maximum iterations (10) reached and the optimization hasn't converged yet.\n",
      "  % self.max_iter, ConvergenceWarning)\n",
      "\n",
      " 60%|█████████████████████████████████████████████████▊                                 | 6/10 [00:19<00:12,  3.21s/it]C:\\Users\\admin\\Anaconda3\\lib\\site-packages\\sklearn\\neural_network\\multilayer_perceptron.py:566: ConvergenceWarning: Stochastic Optimizer: Maximum iterations (10) reached and the optimization hasn't converged yet.\n",
      "  % self.max_iter, ConvergenceWarning)\n",
      "\n",
      " 70%|██████████████████████████████████████████████████████████                         | 7/10 [00:22<00:09,  3.23s/it]C:\\Users\\admin\\Anaconda3\\lib\\site-packages\\sklearn\\neural_network\\multilayer_perceptron.py:566: ConvergenceWarning: Stochastic Optimizer: Maximum iterations (10) reached and the optimization hasn't converged yet.\n",
      "  % self.max_iter, ConvergenceWarning)\n",
      "\n",
      " 80%|██████████████████████████████████████████████████████████████████▍                | 8/10 [00:25<00:06,  3.21s/it]C:\\Users\\admin\\Anaconda3\\lib\\site-packages\\sklearn\\neural_network\\multilayer_perceptron.py:566: ConvergenceWarning: Stochastic Optimizer: Maximum iterations (10) reached and the optimization hasn't converged yet.\n",
      "  % self.max_iter, ConvergenceWarning)\n",
      "\n",
      " 90%|██████████████████████████████████████████████████████████████████████████▋        | 9/10 [00:29<00:03,  3.19s/it]C:\\Users\\admin\\Anaconda3\\lib\\site-packages\\sklearn\\neural_network\\multilayer_perceptron.py:566: ConvergenceWarning: Stochastic Optimizer: Maximum iterations (10) reached and the optimization hasn't converged yet.\n",
      "  % self.max_iter, ConvergenceWarning)\n",
      "\n",
      "100%|██████████████████████████████████████████████████████████████████████████████████| 10/10 [00:32<00:00,  3.22s/it]\n",
      "\n",
      "  0%|                                                                                           | 0/10 [00:00<?, ?it/s]\n",
      " 10%|████████▎                                                                          | 1/10 [00:00<00:06,  1.46it/s]\n",
      " 20%|████████████████▌                                                                  | 2/10 [00:01<00:05,  1.48it/s]\n",
      " 30%|████████████████████████▉                                                          | 3/10 [00:02<00:04,  1.49it/s]\n",
      " 40%|█████████████████████████████████▏                                                 | 4/10 [00:02<00:04,  1.50it/s]\n",
      " 50%|█████████████████████████████████████████▌                                         | 5/10 [00:03<00:03,  1.51it/s]\n",
      " 60%|█████████████████████████████████████████████████▊                                 | 6/10 [00:03<00:02,  1.51it/s]\n",
      " 70%|██████████████████████████████████████████████████████████                         | 7/10 [00:04<00:01,  1.52it/s]\n",
      " 80%|██████████████████████████████████████████████████████████████████▍                | 8/10 [00:05<00:01,  1.51it/s]\n",
      " 90%|██████████████████████████████████████████████████████████████████████████▋        | 9/10 [00:05<00:00,  1.52it/s]\n",
      "100%|██████████████████████████████████████████████████████████████████████████████████| 10/10 [00:06<00:00,  1.51it/s]\n"
     ]
    }
   ],
   "source": [
    "# train an ensemble of 10 single layer nets\n",
    "lay = 3 # intermediate layer to build on top\n",
    "# base classifier\n",
    "clf_base = make_pipeline(StandardScaler(), MLPClassifier(random_state=1, hidden_layer_sizes=(), max_iter=10))\n",
    "n_clfs = 10 # number of ensemble classifiers\n",
    "portion = 0.7 # random data portion to train each member\n",
    "\n",
    "# train all classifiers, get results (pred classes and probabilities)\n",
    "Ypred_ind, Ppred_ind, Ypred_ood, Ppred_ood = ens_utils.do_all_clf(clf_base, A, Ares, B, Bres, C, Cres, n_classes, lay, layer_sizes_mean, n_clfs, portion)"
   ]
  },
  {
   "cell_type": "markdown",
   "metadata": {},
   "source": [
    "### Evaluate Performance"
   ]
  },
  {
   "cell_type": "markdown",
   "metadata": {},
   "source": [
    "After training is finished, we can evaluate the uncertainty estimation performance."
   ]
  },
  {
   "cell_type": "code",
   "execution_count": 16,
   "metadata": {},
   "outputs": [
    {
     "data": {
      "image/png": "[encoded data removed]",
      "text/plain": [
       "<Figure size 432x288 with 1 Axes>"
      ]
     },
     "metadata": {
      "needs_background": "light"
     },
     "output_type": "display_data"
    }
   ],
   "source": [
    "# measure performance\n",
    "# get entropy scores of IND and OOD\n",
    "known = ens_utils.entropy_scores(Bres, Ppred_ind)\n",
    "novel = ens_utils.entropy_scores(Cres, Ppred_ood)\n",
    "\n",
    "# measure perf\n",
    "tnr_at_tpr95, auroc, dtacc, _, _ = metrics.calc_metrics(known, novel)\n",
    "\n",
    "# results of all methods (for plotting)\n",
    "AUROC_ALL = (72.2, 100 * auroc)\n",
    "\n",
    "# plot bar chart\n",
    "myplots.make_barplot([AUROC_ALL], \n",
    "                     'SVHN Resnet (DF)', ['Mahanalobis', 'Ensembles'], \n",
    "                     ['AUROC'])"
   ]
  },
  {
   "cell_type": "code",
   "execution_count": null,
   "metadata": {},
   "outputs": [],
   "source": []
  }
 ],
 "metadata": {
  "kernelspec": {
   "display_name": "Python 3",
   "language": "python",
   "name": "python3"
  },
  "language_info": {
   "codemirror_mode": {
    "name": "ipython",
    "version": 3
   },
   "file_extension": ".py",
   "mimetype": "text/x-python",
   "name": "python",
   "nbconvert_exporter": "python",
   "pygments_lexer": "ipython3",
   "version": "3.7.4"
  }
 },
 "nbformat": 4,
 "nbformat_minor": 2
}
