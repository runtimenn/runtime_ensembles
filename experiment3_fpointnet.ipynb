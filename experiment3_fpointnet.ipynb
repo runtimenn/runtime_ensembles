{
 "cells": [
  {
   "cell_type": "markdown",
   "metadata": {},
   "source": [
    "# Experiment 1: F-Pointnet"
   ]
  },
  {
   "cell_type": "markdown",
   "metadata": {},
   "source": [
    "In this experiment, we evaluate the ensembles approach on the task of missclassification detection on F-Pointnet. We compare it with the approach of Cheng et al. Note that here missclassification means either a wrong class, or an IOU below the threshold."
   ]
  },
  {
   "cell_type": "markdown",
   "metadata": {},
   "source": [
    "### Imports"
   ]
  },
  {
   "cell_type": "code",
   "execution_count": 1,
   "metadata": {},
   "outputs": [],
   "source": [
    "import numpy as np\n",
    "import pickle\n",
    "import tqdm\n",
    "\n",
    "# sklearn\n",
    "from sklearn.pipeline import make_pipeline\n",
    "from sklearn.preprocessing import StandardScaler\n",
    "from sklearn.neural_network import MLPRegressor\n",
    "\n",
    "# own modules\n",
    "import utils.ensemble_utils as ens_utils\n",
    "import utils.fpointnet_utils as fpointnet_utils\n",
    "import utils.cheng as cheng\n",
    "import utils.metrics as metrics\n",
    "import utils.plots as myplots"
   ]
  },
  {
   "cell_type": "markdown",
   "metadata": {},
   "source": [
    "### Params"
   ]
  },
  {
   "cell_type": "code",
   "execution_count": 2,
   "metadata": {},
   "outputs": [],
   "source": [
    "# params\n",
    "layer_sizes = [256]\n",
    "n_classes = 7 # these are not classes, but number of regressed box coordinates"
   ]
  },
  {
   "cell_type": "markdown",
   "metadata": {},
   "source": [
    "## Setting"
   ]
  },
  {
   "cell_type": "markdown",
   "metadata": {},
   "source": [
    "We apply the ensemble approach on the penultimate layer of the box-regression subnet of F-Pointnet. Each ensemble tries to predict the 7 box coordinates (position, size, and rotation). To evaluate uncertainty, we consider the prediction variance on some box coordinate, here $x$. We then relate the missclassification detections from these uncertainty score. We compare our approach with Cheng et. al. approach. Misclassification here means a low IOU with the ground truth. We train on the training set and evaluate on the validation set. "
   ]
  },
  {
   "cell_type": "markdown",
   "metadata": {},
   "source": [
    "Running the full approach requires access to the KITTI dataset, which is quite large. To ease reproducibility, we have extracted the F-Pointnet intermediate activations and outputs on the training and validation data, and provide them in pickle files. In case KITTI is available, we have included our pretrained F-pointnet, as well as methods to extract these values (see respective scripts for details)."
   ]
  },
  {
   "cell_type": "markdown",
   "metadata": {},
   "source": [
    "![title](figs/approach.png)"
   ]
  },
  {
   "cell_type": "markdown",
   "metadata": {},
   "source": [
    "## Load F-Pointnet data (activations - outputs)"
   ]
  },
  {
   "cell_type": "markdown",
   "metadata": {},
   "source": [
    "Here, we load the stored intermediate activations and outputs of F-Pointnet, and compute the IOU values to the ground truth boxes."
   ]
  },
  {
   "cell_type": "code",
   "execution_count": 4,
   "metadata": {},
   "outputs": [
    {
     "name": "stderr",
     "output_type": "stream",
     "text": [
      "100%|██████████████████████████████████████████████████████████████████████████████| 3241/3241 [01:32<00:00, 35.05it/s]\n",
      "100%|██████████████████████████████████████████████████████████████████████████████| 3405/3405 [01:30<00:00, 37.51it/s]\n"
     ]
    }
   ],
   "source": [
    "#collect training and valid activations\n",
    "# collect training activ\n",
    "\n",
    "with open('data/f_pointnet_eval/evaldict_train.pkl', 'rb') as handle:\n",
    "    evaldict_train = pickle.load(handle)\n",
    "    \n",
    "with open('data/f_pointnet_eval/evaldict_val.pkl', 'rb') as handle:\n",
    "    evaldict_val = pickle.load(handle)\n",
    "    \n",
    "# training eval data\n",
    "A = np.empty((0, 256)) # activations array\n",
    "Ares = np.empty(0) # ious with ground truth\n",
    "\n",
    "# test eval data\n",
    "B = np.empty((0, 256)) # activations array\n",
    "Bres = np.empty(0) # ious with ground truth\n",
    "\n",
    "train_boxes = np.zeros((13072, 7))\n",
    "val_boxes = np.zeros((13004, 7))\n",
    "\n",
    "cnt = 0\n",
    "\n",
    "for img_key in tqdm.tqdm(evaldict_train):\n",
    "    for bbox_dict in evaldict_train[img_key]:\n",
    "        # get pattern\n",
    "        patt = bbox_dict['patt']\n",
    "        A = np.vstack((A, patt))\n",
    "        # get box info\n",
    "        pred_center_BboxNet = bbox_dict[\"pred_center_BboxNet\"]\n",
    "        x_pr, y_pr, z_pr = pred_center_BboxNet\n",
    "        gt_center = bbox_dict[\"gt_center\"]\n",
    "        x_gt, y_gt, z_gt = gt_center\n",
    "        \n",
    "        pred_h = bbox_dict[\"pred_h\"]\n",
    "        pred_w = bbox_dict[\"pred_w\"]\n",
    "        pred_l = bbox_dict[\"pred_l\"]\n",
    "        pred_r_y = bbox_dict[\"pred_r_y\"]\n",
    "        gt_h = bbox_dict[\"gt_h\"]\n",
    "        gt_w = bbox_dict[\"gt_w\"]\n",
    "        gt_l = bbox_dict[\"gt_l\"]\n",
    "        gt_r_y = bbox_dict[\"gt_r_y\"]\n",
    "        # build boxes\n",
    "        box_pred = np.array([x_pr, y_pr, z_pr, pred_l, pred_w, pred_h, pred_r_y])\n",
    "        train_boxes[cnt] = box_pred\n",
    "        cnt += 1\n",
    "        box_gt = np.array([x_gt, y_gt, z_gt, gt_l, gt_w, gt_h, gt_r_y])\n",
    "        # calc 3D iou\n",
    "        iou = fpointnet_utils.iou_3Dbox(box_pred, box_gt)\n",
    "        Ares = np.hstack((Ares, iou))\n",
    "\n",
    "# collect val activations\n",
    "        \n",
    "cnt = 0\n",
    "\n",
    "for img_key in tqdm.tqdm(evaldict_val):\n",
    "    for bbox_dict in evaldict_val[img_key]:\n",
    "        # get pattern\n",
    "        patt = bbox_dict['patt']\n",
    "        B = np.vstack((B, patt))\n",
    "        # get box info\n",
    "        pred_center_BboxNet = bbox_dict[\"pred_center_BboxNet\"]\n",
    "        x_pr, y_pr, z_pr = pred_center_BboxNet\n",
    "        gt_center = bbox_dict[\"gt_center\"]\n",
    "        x_gt, y_gt, z_gt = gt_center\n",
    "        \n",
    "        pred_h = bbox_dict[\"pred_h\"]\n",
    "        pred_w = bbox_dict[\"pred_w\"]\n",
    "        pred_l = bbox_dict[\"pred_l\"]\n",
    "        pred_r_y = bbox_dict[\"pred_r_y\"]\n",
    "        gt_h = bbox_dict[\"gt_h\"]\n",
    "        gt_w = bbox_dict[\"gt_w\"]\n",
    "        gt_l = bbox_dict[\"gt_l\"]\n",
    "        gt_r_y = bbox_dict[\"gt_r_y\"]\n",
    "        # build boxes\n",
    "        box_pred = np.array([x_pr, y_pr, z_pr, pred_l, pred_w, pred_h, pred_r_y])\n",
    "        val_boxes[cnt] = box_pred\n",
    "        cnt += 1\n",
    "        box_gt = np.array([x_gt, y_gt, z_gt, gt_l, gt_w, gt_h, gt_r_y])\n",
    "        # calc 3D iou\n",
    "        iou = fpointnet_utils.iou_3Dbox(box_pred, box_gt)\n",
    "        Bres = np.hstack((Bres, iou))"
   ]
  },
  {
   "cell_type": "markdown",
   "metadata": {},
   "source": [
    "## Apply Cheng's approach"
   ]
  },
  {
   "cell_type": "markdown",
   "metadata": {},
   "source": [
    "Now that we have the intermediate activations and IOUs, we can apply Cheng's approach, by converting the problem to classification (low IOU -> wrong \"class\", etc.). We use utilities to compute the respective Hamming distances, etc. A summary of Cheng's approach can be seen in the Figure below."
   ]
  },
  {
   "cell_type": "markdown",
   "metadata": {},
   "source": [
    "![title](figs/cheng.png)"
   ]
  },
  {
   "cell_type": "code",
   "execution_count": 5,
   "metadata": {},
   "outputs": [
    {
     "name": "stderr",
     "output_type": "stream",
     "text": [
      "100%|███████████████████████████████████████████████████████████████████████████| 13004/13004 [01:59<00:00, 108.60it/s]\n"
     ]
    }
   ],
   "source": [
    "# get activ patterns for cheng's approach\n",
    "Apatt = cheng.Patt(A)\n",
    "\n",
    "# make hamming dists (for Cheng's approach)\n",
    "X = np.zeros_like(Bres)\n",
    "\n",
    "for i in tqdm.tqdm(range(len(X))):\n",
    "    # get patt\n",
    "    patt = cheng.Patt (B[i])\n",
    "    # get hamm dist\n",
    "    d = cheng.minHamdist(patt, Apatt) / 256\n",
    "    X[i] = d\n",
    "\n",
    "# run cheng\n",
    "# real \"labels\" Y - which boxes have low IOU\n",
    "iou_thres = 0.5\n",
    "Y_val = Bres < iou_thres\n",
    "\n",
    "# Cheng's Y pred - samples with high Hamming dist are missclassified\n",
    "ham_thres = 0.03 # approx. best threshold found\n",
    "Y_pred = X > ham_thres\n",
    "\n",
    "# print det. error, FAR and F1\n",
    "det_err_cheng, far_cheng, F1_cheng = metrics.printMeasures(Y_pred, Y_val)"
   ]
  },
  {
   "cell_type": "markdown",
   "metadata": {},
   "source": [
    "## Apply Ensembles"
   ]
  },
  {
   "cell_type": "markdown",
   "metadata": {},
   "source": [
    "Now we can also run the ensembles approach. Ech ensemble member tries to predict the Box coordinates. Then, we consider as \"bad\" the boxes that have high prediction variance (with respect to the \"correct\" boxes of the training set)."
   ]
  },
  {
   "cell_type": "code",
   "execution_count": 6,
   "metadata": {},
   "outputs": [
    {
     "name": "stderr",
     "output_type": "stream",
     "text": [
      "  0%|                                                                                           | 0/10 [00:00<?, ?it/s]C:\\Users\\admin\\Anaconda3\\lib\\site-packages\\sklearn\\neural_network\\multilayer_perceptron.py:566: ConvergenceWarning: Stochastic Optimizer: Maximum iterations (10) reached and the optimization hasn't converged yet.\n",
      "  % self.max_iter, ConvergenceWarning)\n",
      "C:\\Users\\admin\\Anaconda3\\lib\\site-packages\\sklearn\\base.py:420: FutureWarning: The default value of multioutput (not exposed in score method) will change from 'variance_weighted' to 'uniform_average' in 0.23 to keep consistent with 'metrics.r2_score'. To specify the default value manually and avoid the warning, please either call 'metrics.r2_score' directly or make a custom scorer with 'metrics.make_scorer' (the built-in scorer 'r2' uses multioutput='uniform_average').\n",
      "  \"multioutput='uniform_average').\", FutureWarning)\n",
      " 10%|████████▎                                                                          | 1/10 [00:00<00:04,  1.85it/s]C:\\Users\\admin\\Anaconda3\\lib\\site-packages\\sklearn\\neural_network\\multilayer_perceptron.py:566: ConvergenceWarning: Stochastic Optimizer: Maximum iterations (10) reached and the optimization hasn't converged yet.\n",
      "  % self.max_iter, ConvergenceWarning)\n",
      "C:\\Users\\admin\\Anaconda3\\lib\\site-packages\\sklearn\\base.py:420: FutureWarning: The default value of multioutput (not exposed in score method) will change from 'variance_weighted' to 'uniform_average' in 0.23 to keep consistent with 'metrics.r2_score'. To specify the default value manually and avoid the warning, please either call 'metrics.r2_score' directly or make a custom scorer with 'metrics.make_scorer' (the built-in scorer 'r2' uses multioutput='uniform_average').\n",
      "  \"multioutput='uniform_average').\", FutureWarning)\n",
      " 20%|████████████████▌                                                                  | 2/10 [00:01<00:04,  1.86it/s]C:\\Users\\admin\\Anaconda3\\lib\\site-packages\\sklearn\\neural_network\\multilayer_perceptron.py:566: ConvergenceWarning: Stochastic Optimizer: Maximum iterations (10) reached and the optimization hasn't converged yet.\n",
      "  % self.max_iter, ConvergenceWarning)\n",
      "C:\\Users\\admin\\Anaconda3\\lib\\site-packages\\sklearn\\base.py:420: FutureWarning: The default value of multioutput (not exposed in score method) will change from 'variance_weighted' to 'uniform_average' in 0.23 to keep consistent with 'metrics.r2_score'. To specify the default value manually and avoid the warning, please either call 'metrics.r2_score' directly or make a custom scorer with 'metrics.make_scorer' (the built-in scorer 'r2' uses multioutput='uniform_average').\n",
      "  \"multioutput='uniform_average').\", FutureWarning)\n",
      " 30%|████████████████████████▉                                                          | 3/10 [00:01<00:03,  1.90it/s]C:\\Users\\admin\\Anaconda3\\lib\\site-packages\\sklearn\\neural_network\\multilayer_perceptron.py:566: ConvergenceWarning: Stochastic Optimizer: Maximum iterations (10) reached and the optimization hasn't converged yet.\n",
      "  % self.max_iter, ConvergenceWarning)\n",
      "C:\\Users\\admin\\Anaconda3\\lib\\site-packages\\sklearn\\base.py:420: FutureWarning: The default value of multioutput (not exposed in score method) will change from 'variance_weighted' to 'uniform_average' in 0.23 to keep consistent with 'metrics.r2_score'. To specify the default value manually and avoid the warning, please either call 'metrics.r2_score' directly or make a custom scorer with 'metrics.make_scorer' (the built-in scorer 'r2' uses multioutput='uniform_average').\n",
      "  \"multioutput='uniform_average').\", FutureWarning)\n",
      " 40%|█████████████████████████████████▏                                                 | 4/10 [00:02<00:03,  1.88it/s]C:\\Users\\admin\\Anaconda3\\lib\\site-packages\\sklearn\\neural_network\\multilayer_perceptron.py:566: ConvergenceWarning: Stochastic Optimizer: Maximum iterations (10) reached and the optimization hasn't converged yet.\n",
      "  % self.max_iter, ConvergenceWarning)\n",
      "C:\\Users\\admin\\Anaconda3\\lib\\site-packages\\sklearn\\base.py:420: FutureWarning: The default value of multioutput (not exposed in score method) will change from 'variance_weighted' to 'uniform_average' in 0.23 to keep consistent with 'metrics.r2_score'. To specify the default value manually and avoid the warning, please either call 'metrics.r2_score' directly or make a custom scorer with 'metrics.make_scorer' (the built-in scorer 'r2' uses multioutput='uniform_average').\n",
      "  \"multioutput='uniform_average').\", FutureWarning)\n",
      " 50%|█████████████████████████████████████████▌                                         | 5/10 [00:02<00:02,  1.90it/s]C:\\Users\\admin\\Anaconda3\\lib\\site-packages\\sklearn\\neural_network\\multilayer_perceptron.py:566: ConvergenceWarning: Stochastic Optimizer: Maximum iterations (10) reached and the optimization hasn't converged yet.\n",
      "  % self.max_iter, ConvergenceWarning)\n",
      "C:\\Users\\admin\\Anaconda3\\lib\\site-packages\\sklearn\\base.py:420: FutureWarning: The default value of multioutput (not exposed in score method) will change from 'variance_weighted' to 'uniform_average' in 0.23 to keep consistent with 'metrics.r2_score'. To specify the default value manually and avoid the warning, please either call 'metrics.r2_score' directly or make a custom scorer with 'metrics.make_scorer' (the built-in scorer 'r2' uses multioutput='uniform_average').\n",
      "  \"multioutput='uniform_average').\", FutureWarning)\n",
      " 60%|█████████████████████████████████████████████████▊                                 | 6/10 [00:03<00:02,  1.89it/s]C:\\Users\\admin\\Anaconda3\\lib\\site-packages\\sklearn\\neural_network\\multilayer_perceptron.py:566: ConvergenceWarning: Stochastic Optimizer: Maximum iterations (10) reached and the optimization hasn't converged yet.\n",
      "  % self.max_iter, ConvergenceWarning)\n",
      "C:\\Users\\admin\\Anaconda3\\lib\\site-packages\\sklearn\\base.py:420: FutureWarning: The default value of multioutput (not exposed in score method) will change from 'variance_weighted' to 'uniform_average' in 0.23 to keep consistent with 'metrics.r2_score'. To specify the default value manually and avoid the warning, please either call 'metrics.r2_score' directly or make a custom scorer with 'metrics.make_scorer' (the built-in scorer 'r2' uses multioutput='uniform_average').\n",
      "  \"multioutput='uniform_average').\", FutureWarning)\n",
      " 70%|██████████████████████████████████████████████████████████                         | 7/10 [00:03<00:01,  1.85it/s]C:\\Users\\admin\\Anaconda3\\lib\\site-packages\\sklearn\\neural_network\\multilayer_perceptron.py:566: ConvergenceWarning: Stochastic Optimizer: Maximum iterations (10) reached and the optimization hasn't converged yet.\n",
      "  % self.max_iter, ConvergenceWarning)\n",
      "C:\\Users\\admin\\Anaconda3\\lib\\site-packages\\sklearn\\base.py:420: FutureWarning: The default value of multioutput (not exposed in score method) will change from 'variance_weighted' to 'uniform_average' in 0.23 to keep consistent with 'metrics.r2_score'. To specify the default value manually and avoid the warning, please either call 'metrics.r2_score' directly or make a custom scorer with 'metrics.make_scorer' (the built-in scorer 'r2' uses multioutput='uniform_average').\n",
      "  \"multioutput='uniform_average').\", FutureWarning)\n",
      " 80%|██████████████████████████████████████████████████████████████████▍                | 8/10 [00:04<00:01,  1.87it/s]C:\\Users\\admin\\Anaconda3\\lib\\site-packages\\sklearn\\neural_network\\multilayer_perceptron.py:566: ConvergenceWarning: Stochastic Optimizer: Maximum iterations (10) reached and the optimization hasn't converged yet.\n",
      "  % self.max_iter, ConvergenceWarning)\n",
      "C:\\Users\\admin\\Anaconda3\\lib\\site-packages\\sklearn\\base.py:420: FutureWarning: The default value of multioutput (not exposed in score method) will change from 'variance_weighted' to 'uniform_average' in 0.23 to keep consistent with 'metrics.r2_score'. To specify the default value manually and avoid the warning, please either call 'metrics.r2_score' directly or make a custom scorer with 'metrics.make_scorer' (the built-in scorer 'r2' uses multioutput='uniform_average').\n",
      "  \"multioutput='uniform_average').\", FutureWarning)\n",
      " 90%|██████████████████████████████████████████████████████████████████████████▋        | 9/10 [00:04<00:00,  1.86it/s]C:\\Users\\admin\\Anaconda3\\lib\\site-packages\\sklearn\\neural_network\\multilayer_perceptron.py:566: ConvergenceWarning: Stochastic Optimizer: Maximum iterations (10) reached and the optimization hasn't converged yet.\n",
      "  % self.max_iter, ConvergenceWarning)\n"
     ]
    },
    {
     "name": "stderr",
     "output_type": "stream",
     "text": [
      "C:\\Users\\admin\\Anaconda3\\lib\\site-packages\\sklearn\\base.py:420: FutureWarning: The default value of multioutput (not exposed in score method) will change from 'variance_weighted' to 'uniform_average' in 0.23 to keep consistent with 'metrics.r2_score'. To specify the default value manually and avoid the warning, please either call 'metrics.r2_score' directly or make a custom scorer with 'metrics.make_scorer' (the built-in scorer 'r2' uses multioutput='uniform_average').\n",
      "  \"multioutput='uniform_average').\", FutureWarning)\n",
      "100%|██████████████████████████████████████████████████████████████████████████████████| 10/10 [00:05<00:00,  1.85it/s]\n",
      "100%|██████████████████████████████████████████████████████████████████████████████████| 10/10 [00:00<00:00, 21.15it/s]\n",
      "100%|██████████████████████████████████████████████████████████████████████████████████| 10/10 [00:00<00:00, 11.14it/s]\n"
     ]
    }
   ],
   "source": [
    "#run ensembles\n",
    "lay = 0\n",
    "\n",
    "# define base classifier\n",
    "clf_base = make_pipeline(StandardScaler(), MLPRegressor(random_state=1, hidden_layer_sizes=(), max_iter=10))\n",
    "\n",
    "n_clfs = 10 # 10\n",
    "portion = 0.8\n",
    "\n",
    "# good cases - bbox has overlap higher than iou threshold\n",
    "idx = Ares >= iou_thres\n",
    "Anew = A[idx]\n",
    "train_boxes_new = train_boxes[idx]\n",
    "\n",
    "# rest cases - misses\n",
    "Arest = A[~idx]\n",
    "train_boxes_rest = train_boxes[~idx]\n",
    "\n",
    "# train\n",
    "# train all clfs\n",
    "clfs_list = ens_utils.train_all_classifiers_reg(n_clfs, clf_base, Anew, train_boxes_new, lay, layer_sizes, portion)\n",
    "\n",
    "# test all clfs\n",
    "Ypred_ind, Ypred_ood = ens_utils.test_all_classifiers_reg(clfs_list, Anew, train_boxes_new, Arest, train_boxes_rest, n_classes, lay, layer_sizes)\n",
    "\n",
    "# all ood out\n",
    "_, Ypred_ood2 = ens_utils.test_all_classifiers_reg(clfs_list, Anew, train_boxes_new, B, val_boxes, n_classes, lay, layer_sizes)\n"
   ]
  },
  {
   "cell_type": "markdown",
   "metadata": {},
   "source": [
    "### Measure Performance"
   ]
  },
  {
   "cell_type": "markdown",
   "metadata": {},
   "source": [
    "Now, we can measure performance"
   ]
  },
  {
   "cell_type": "code",
   "execution_count": 7,
   "metadata": {},
   "outputs": [
    {
     "data": {
      "image/png": "[encoded data removed]",
      "text/plain": [
       "<Figure size 432x288 with 1 Axes>"
      ]
     },
     "metadata": {
      "needs_background": "light"
     },
     "output_type": "display_data"
    }
   ],
   "source": [
    "# measure performance\n",
    "# get threshold for variance as thr = mean[var] + 3std[var] on training set\n",
    "S = np.std(Ypred_ind, axis = 2)\n",
    "S2 = np.std(Ypred_ood, axis = 2)\n",
    "S3 = np.std(Ypred_ood2, axis = 2)\n",
    "n_feat = 0\n",
    "\n",
    "thres = S[:,0].mean() + 3*S[:,0].std()\n",
    "\n",
    "ypred = S3[:, 0] <= thres\n",
    "ytest = Bres >= iou_thres\n",
    "\n",
    "det_err_ens, far_ens, F1_ens = metrics.printMeasures(ypred, ytest)\n",
    "\n",
    "# make plot\n",
    "DET_ERR_ALL = (det_err_cheng, det_err_ens)\n",
    "FAR_ALL = (far_cheng, far_ens)\n",
    "F1_ALL = (F1_cheng, F1_ens)\n",
    "\n",
    "myplots.make_barplot([DET_ERR_ALL, FAR_ALL, F1_ALL], \n",
    "                     'Test on Frustum Pointnet (KITTI)', ['Modified Cheng et. al.', 'Ensembles'], \n",
    "                     ['det. error', 'FAR', 'F1'])"
   ]
  },
  {
   "cell_type": "code",
   "execution_count": null,
   "metadata": {},
   "outputs": [],
   "source": []
  }
 ],
 "metadata": {
  "kernelspec": {
   "display_name": "Python 3",
   "language": "python",
   "name": "python3"
  },
  "language_info": {
   "codemirror_mode": {
    "name": "ipython",
    "version": 3
   },
   "file_extension": ".py",
   "mimetype": "text/x-python",
   "name": "python",
   "nbconvert_exporter": "python",
   "pygments_lexer": "ipython3",
   "version": "3.7.4"
  }
 },
 "nbformat": 4,
 "nbformat_minor": 2
}
